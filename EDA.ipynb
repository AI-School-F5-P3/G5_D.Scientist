{
 "cells": [
  {
   "cell_type": "code",
   "execution_count": 39,
   "metadata": {},
   "outputs": [
    {
     "data": {
      "text/html": [
       "<div>\n",
       "<style scoped>\n",
       "    .dataframe tbody tr th:only-of-type {\n",
       "        vertical-align: middle;\n",
       "    }\n",
       "\n",
       "    .dataframe tbody tr th {\n",
       "        vertical-align: top;\n",
       "    }\n",
       "\n",
       "    .dataframe thead th {\n",
       "        text-align: right;\n",
       "    }\n",
       "</style>\n",
       "<table border=\"1\" class=\"dataframe\">\n",
       "  <thead>\n",
       "    <tr style=\"text-align: right;\">\n",
       "      <th></th>\n",
       "      <th>gender</th>\n",
       "      <th>age</th>\n",
       "      <th>hypertension</th>\n",
       "      <th>heart_disease</th>\n",
       "      <th>ever_married</th>\n",
       "      <th>work_type</th>\n",
       "      <th>Residence_type</th>\n",
       "      <th>avg_glucose_level</th>\n",
       "      <th>bmi</th>\n",
       "      <th>smoking_status</th>\n",
       "      <th>stroke</th>\n",
       "    </tr>\n",
       "  </thead>\n",
       "  <tbody>\n",
       "    <tr>\n",
       "      <th>0</th>\n",
       "      <td>Male</td>\n",
       "      <td>67.0</td>\n",
       "      <td>0</td>\n",
       "      <td>1</td>\n",
       "      <td>Yes</td>\n",
       "      <td>Private</td>\n",
       "      <td>Urban</td>\n",
       "      <td>228.69</td>\n",
       "      <td>36.6</td>\n",
       "      <td>formerly smoked</td>\n",
       "      <td>1</td>\n",
       "    </tr>\n",
       "    <tr>\n",
       "      <th>1</th>\n",
       "      <td>Male</td>\n",
       "      <td>80.0</td>\n",
       "      <td>0</td>\n",
       "      <td>1</td>\n",
       "      <td>Yes</td>\n",
       "      <td>Private</td>\n",
       "      <td>Rural</td>\n",
       "      <td>105.92</td>\n",
       "      <td>32.5</td>\n",
       "      <td>never smoked</td>\n",
       "      <td>1</td>\n",
       "    </tr>\n",
       "    <tr>\n",
       "      <th>2</th>\n",
       "      <td>Female</td>\n",
       "      <td>49.0</td>\n",
       "      <td>0</td>\n",
       "      <td>0</td>\n",
       "      <td>Yes</td>\n",
       "      <td>Private</td>\n",
       "      <td>Urban</td>\n",
       "      <td>171.23</td>\n",
       "      <td>34.4</td>\n",
       "      <td>smokes</td>\n",
       "      <td>1</td>\n",
       "    </tr>\n",
       "    <tr>\n",
       "      <th>3</th>\n",
       "      <td>Female</td>\n",
       "      <td>79.0</td>\n",
       "      <td>1</td>\n",
       "      <td>0</td>\n",
       "      <td>Yes</td>\n",
       "      <td>Self-employed</td>\n",
       "      <td>Rural</td>\n",
       "      <td>174.12</td>\n",
       "      <td>24.0</td>\n",
       "      <td>never smoked</td>\n",
       "      <td>1</td>\n",
       "    </tr>\n",
       "    <tr>\n",
       "      <th>4</th>\n",
       "      <td>Male</td>\n",
       "      <td>81.0</td>\n",
       "      <td>0</td>\n",
       "      <td>0</td>\n",
       "      <td>Yes</td>\n",
       "      <td>Private</td>\n",
       "      <td>Urban</td>\n",
       "      <td>186.21</td>\n",
       "      <td>29.0</td>\n",
       "      <td>formerly smoked</td>\n",
       "      <td>1</td>\n",
       "    </tr>\n",
       "  </tbody>\n",
       "</table>\n",
       "</div>"
      ],
      "text/plain": [
       "   gender   age  hypertension  heart_disease ever_married      work_type  \\\n",
       "0    Male  67.0             0              1          Yes        Private   \n",
       "1    Male  80.0             0              1          Yes        Private   \n",
       "2  Female  49.0             0              0          Yes        Private   \n",
       "3  Female  79.0             1              0          Yes  Self-employed   \n",
       "4    Male  81.0             0              0          Yes        Private   \n",
       "\n",
       "  Residence_type  avg_glucose_level   bmi   smoking_status  stroke  \n",
       "0          Urban             228.69  36.6  formerly smoked       1  \n",
       "1          Rural             105.92  32.5     never smoked       1  \n",
       "2          Urban             171.23  34.4           smokes       1  \n",
       "3          Rural             174.12  24.0     never smoked       1  \n",
       "4          Urban             186.21  29.0  formerly smoked       1  "
      ]
     },
     "execution_count": 39,
     "metadata": {},
     "output_type": "execute_result"
    }
   ],
   "source": [
    "import pandas as pd\n",
    "import numpy as np\n",
    "from bokeh.plotting import figure, show\n",
    "from bokeh.layouts import column\n",
    "from sklearn.preprocessing import OneHotEncoder, StandardScaler\n",
    "from sklearn.compose import ColumnTransformer\n",
    "from sklearn.impute import SimpleImputer\n",
    "from sklearn.model_selection import train_test_split, cross_val_score\n",
    "from sklearn.linear_model import LogisticRegression\n",
    "from sklearn.metrics import classification_report, confusion_matrix\n",
    "\n",
    "\n",
    "\n",
    "df = pd.read_csv('stroke_dataset.csv')\n",
    "\n",
    "df.head()"
   ]
  },
  {
   "cell_type": "code",
   "execution_count": 40,
   "metadata": {},
   "outputs": [
    {
     "data": {
      "text/plain": [
       "(4981, 11)"
      ]
     },
     "execution_count": 40,
     "metadata": {},
     "output_type": "execute_result"
    }
   ],
   "source": [
    "df.shape"
   ]
  },
  {
   "cell_type": "code",
   "execution_count": 41,
   "metadata": {},
   "outputs": [],
   "source": [
    "\n",
    "\n",
    "\n",
    "# Crear una lista para almacenar los gráficos\n",
    "plots = []\n",
    "\n",
    "# Iterar sobre cada columna numérica\n",
    "for col in df.select_dtypes(include=['float64', 'int64']).columns:\n",
    "    # Crear un histograma\n",
    "    hist, edges = np.histogram(df[col].dropna(), bins=30)\n",
    "    \n",
    "    # Crear la figura\n",
    "    p = figure(title=f'Histograma de {col}', x_axis_label=col, y_axis_label='Frecuencia')\n",
    "    \n",
    "    # Añadir el histograma a la figura\n",
    "    p.quad(top=hist, bottom=0, left=edges[:-1], right=edges[1:], fill_color=\"navy\", line_color=\"white\", alpha=0.7)\n",
    "    \n",
    "    # Añadir la figura a la lista de gráficos\n",
    "    plots.append(p)\n",
    "\n",
    "# Mostrar todos los histogramas en una columna\n",
    "show(column(plots))"
   ]
  },
  {
   "cell_type": "code",
   "execution_count": 42,
   "metadata": {},
   "outputs": [],
   "source": [
    "# Eliminar registros donde la edad es menor a 14 años\n",
    "df = df[df['age'] >= 14]\n",
    "\n",
    "# Eliminar registros donde smoking_status es 'Unknown'\n",
    "df = df[df['smoking_status'] != 'Unknown']\n",
    "\n",
    "# Reiniciar el índice del DataFrame\n",
    "df = df.reset_index(drop=True)\n",
    "\n",
    "# Opcionalmente, guardar el DataFrame limpio en un nuevo archivo CSV\n",
    "df.to_csv('dataset_limpio.csv', index=False)"
   ]
  },
  {
   "cell_type": "code",
   "execution_count": 43,
   "metadata": {},
   "outputs": [
    {
     "name": "stdout",
     "output_type": "stream",
     "text": [
      "stroke\n",
      "0    201\n",
      "1    201\n",
      "Name: count, dtype: int64\n"
     ]
    }
   ],
   "source": [
    "df = pd.read_csv('dataset_limpio.csv')\n",
    "\n",
    "stroke_0 = df[df['stroke'] == 0]\n",
    "stroke_1 = df[df['stroke'] == 1]\n",
    "\n",
    "n_stroke_1 = len(stroke_1)\n",
    "\n",
    "#submuestreo aleatorio de los 0\n",
    "stroke = 0\n",
    "stroke_0_subsampled = stroke_0.sample(n=n_stroke_1, random_state = 42)\n",
    "\n",
    "#volver a unir\n",
    "df_balanced = pd.concat([stroke_1, stroke_0_subsampled])\n",
    "\n",
    "#mezclamos \n",
    "df_balanced =df_balanced.sample(frac=1, random_state=42).reset_index(drop=True)\n",
    "\n",
    "print(df_balanced['stroke'].value_counts())\n",
    "\n",
    "df_balanced.to_csv('dataset_balanceado.csv', index=False)"
   ]
  },
  {
   "cell_type": "code",
   "execution_count": 44,
   "metadata": {},
   "outputs": [
    {
     "name": "stdout",
     "output_type": "stream",
     "text": [
      "gender                object\n",
      "age                  float64\n",
      "hypertension           int64\n",
      "heart_disease          int64\n",
      "ever_married          object\n",
      "work_type             object\n",
      "Residence_type        object\n",
      "avg_glucose_level    float64\n",
      "bmi                  float64\n",
      "smoking_status        object\n",
      "stroke                 int64\n",
      "dtype: object\n"
     ]
    }
   ],
   "source": [
    "print(df_balanced.dtypes)\n"
   ]
  },
  {
   "cell_type": "code",
   "execution_count": 45,
   "metadata": {},
   "outputs": [
    {
     "name": "stdout",
     "output_type": "stream",
     "text": [
      "        age  hypertension  heart_disease  avg_glucose_level       bmi  \\\n",
      "0 -1.351020     -0.506211      -0.389695          -0.631053 -1.254006   \n",
      "1 -0.350914     -0.506211      -0.389695          -0.260976  2.011366   \n",
      "2  0.122820      1.975459      -0.389695           1.597603 -1.585516   \n",
      "3 -0.245640     -0.506211       2.566107          -0.455863  0.900808   \n",
      "4  1.070289      1.975459      -0.389695           0.159654 -1.602091   \n",
      "\n",
      "   gender_Male  ever_married_Yes  work_type_Private  work_type_Self-employed  \\\n",
      "0          0.0               1.0                1.0                      0.0   \n",
      "1          1.0               0.0                1.0                      0.0   \n",
      "2          1.0               1.0                0.0                      0.0   \n",
      "3          1.0               1.0                1.0                      0.0   \n",
      "4          0.0               0.0                1.0                      0.0   \n",
      "\n",
      "   work_type_children  Residence_type_Urban  smoking_status_never smoked  \\\n",
      "0                 0.0                   1.0                          0.0   \n",
      "1                 0.0                   0.0                          0.0   \n",
      "2                 0.0                   1.0                          0.0   \n",
      "3                 0.0                   0.0                          0.0   \n",
      "4                 0.0                   1.0                          1.0   \n",
      "\n",
      "   smoking_status_smokes  \n",
      "0                    1.0  \n",
      "1                    1.0  \n",
      "2                    1.0  \n",
      "3                    1.0  \n",
      "4                    0.0  \n"
     ]
    }
   ],
   "source": [
    "\n",
    "\n",
    "df = pd.read_csv('dataset_balanceado.csv')\n",
    "\n",
    "X = df.drop('stroke', axis=1)\n",
    "y = df['stroke']\n",
    "\n",
    "#definimos columnas categóricas. \n",
    "categorical_columns = ['gender', 'ever_married', 'work_type', 'Residence_type', 'smoking_status']\n",
    "numeric_columns = ['age', 'hypertension', 'heart_disease', 'avg_glucose_level', 'bmi']\n",
    "\n",
    "preprocessor = ColumnTransformer(transformers=[('num', StandardScaler(), numeric_columns), \n",
    "                ('cat', OneHotEncoder(drop='first', sparse_output=False), categorical_columns)\n",
    "                ])\n",
    "\n",
    "#ajustar y transformar\n",
    "X_encoded = preprocessor.fit_transform(X)\n",
    "\n",
    "#Sacar los nombres de las características después de la codificación\n",
    "onehot_encoder = preprocessor.named_transformers_['cat']\n",
    "cat_feature_names = onehot_encoder.get_feature_names_out(categorical_columns)\n",
    "feature_names = numeric_columns + cat_feature_names.tolist()\n",
    "\n",
    "# Crear un nuevo DataFrame con las características codificadas\n",
    "X_encoded_df = pd.DataFrame(X_encoded, columns=feature_names)\n",
    "\n",
    "print(X_encoded_df.head())"
   ]
  },
  {
   "cell_type": "code",
   "execution_count": null,
   "metadata": {},
   "outputs": [],
   "source": []
  }
 ],
 "metadata": {
  "kernelspec": {
   "display_name": "Python 3",
   "language": "python",
   "name": "python3"
  },
  "language_info": {
   "codemirror_mode": {
    "name": "ipython",
    "version": 3
   },
   "file_extension": ".py",
   "mimetype": "text/x-python",
   "name": "python",
   "nbconvert_exporter": "python",
   "pygments_lexer": "ipython3",
   "version": "3.12.4"
  }
 },
 "nbformat": 4,
 "nbformat_minor": 2
}
