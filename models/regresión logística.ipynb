{
 "cells": [
  {
   "cell_type": "code",
   "execution_count": 10,
   "metadata": {},
   "outputs": [
    {
     "name": "stdout",
     "output_type": "stream",
     "text": [
      "              precision    recall  f1-score   support\n",
      "\n",
      "           0       0.78      0.74      0.76        39\n",
      "           1       0.77      0.81      0.79        42\n",
      "\n",
      "    accuracy                           0.78        81\n",
      "   macro avg       0.78      0.78      0.78        81\n",
      "weighted avg       0.78      0.78      0.78        81\n",
      "\n",
      "\n",
      "Matriz de confusión:\n",
      "[[29 10]\n",
      " [ 8 34]]\n",
      "\n",
      "AUC-ROC: 0.8333333333333333\n",
      "\n",
      "Puntuaciones de validación cruzada (AUC-ROC): [0.66193182 0.80156403 0.83105469 0.8359375  0.85742188]\n",
      "Media de AUC-ROC en validación cruzada: 0.798 (+/- 0.140)\n"
     ]
    }
   ],
   "source": [
    "import pandas as pd\n",
    "import numpy as np\n",
    "from sklearn.model_selection import train_test_split, cross_val_score\n",
    "from sklearn.linear_model import LogisticRegression\n",
    "from sklearn.metrics import classification_report, confusion_matrix, roc_auc_score\n",
    "from sklearn.preprocessing import StandardScaler\n",
    "from sklearn.compose import ColumnTransformer\n",
    "from sklearn.preprocessing import OneHotEncoder\n",
    "\n",
    "# Cargar los datos balanceados y limpios\n",
    "df = pd.read_csv(r'c:\\Users\\Administrator\\OneDrive\\Documentos\\GitHub\\G5_D.Scientist\\dataset_balanceado.csv')\n",
    "\n",
    "# Separar características y variable objetivo\n",
    "X = df.drop('stroke', axis=1)\n",
    "y = df['stroke']\n",
    "\n",
    "# Identificar columnas numéricas y categóricas\n",
    "numeric_features = ['age', 'avg_glucose_level', 'bmi']\n",
    "categorical_features = ['gender', 'hypertension', 'heart_disease', 'ever_married', 'work_type', 'Residence_type', 'smoking_status']\n",
    "\n",
    "# Crear preprocesador\n",
    "preprocessor = ColumnTransformer(\n",
    "    transformers=[\n",
    "        ('num', StandardScaler(), numeric_features),\n",
    "        ('cat', OneHotEncoder(drop='first', sparse_output=False), categorical_features)\n",
    "    ])\n",
    "\n",
    "# Dividir los datos en conjuntos de entrenamiento y prueba\n",
    "X_train, X_test, y_train, y_test = train_test_split(X, y, test_size=0.2, random_state=42)\n",
    "\n",
    "# Preprocesar los datos\n",
    "X_train_processed = preprocessor.fit_transform(X_train)\n",
    "X_test_processed = preprocessor.transform(X_test)\n",
    "\n",
    "# Crear y entrenar el modelo\n",
    "model = LogisticRegression(random_state=42)\n",
    "model.fit(X_train_processed, y_train)\n",
    "\n",
    "# Hacer predicciones\n",
    "y_pred = model.predict(X_test_processed)\n",
    "y_pred_proba = model.predict_proba(X_test_processed)[:, 1]\n",
    "\n",
    "# Evaluar el modelo\n",
    "print(classification_report(y_test, y_pred))\n",
    "print(\"\\nMatriz de confusión:\")\n",
    "print(confusion_matrix(y_test, y_pred))\n",
    "print(\"\\nAUC-ROC:\", roc_auc_score(y_test, y_pred_proba))\n",
    "\n",
    "# Validación cruzada\n",
    "cv_scores = cross_val_score(model, X_train_processed, y_train, cv=5, scoring='roc_auc')\n",
    "print(f\"\\nPuntuaciones de validación cruzada (AUC-ROC): {cv_scores}\")\n",
    "print(f\"Media de AUC-ROC en validación cruzada: {cv_scores.mean():.3f} (+/- {cv_scores.std() * 2:.3f})\")"
   ]
  }
 ],
 "metadata": {
  "kernelspec": {
   "display_name": "Python 3",
   "language": "python",
   "name": "python3"
  },
  "language_info": {
   "codemirror_mode": {
    "name": "ipython",
    "version": 3
   },
   "file_extension": ".py",
   "mimetype": "text/x-python",
   "name": "python",
   "nbconvert_exporter": "python",
   "pygments_lexer": "ipython3",
   "version": "3.12.4"
  }
 },
 "nbformat": 4,
 "nbformat_minor": 2
}
